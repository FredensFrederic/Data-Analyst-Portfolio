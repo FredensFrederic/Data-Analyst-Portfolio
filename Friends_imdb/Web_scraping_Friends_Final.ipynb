{
 "cells": [
  {
   "cell_type": "code",
   "execution_count": 1,
   "id": "88eaf3da",
   "metadata": {},
   "outputs": [],
   "source": [
    "import requests\n",
    "from bs4 import BeautifulSoup"
   ]
  },
  {
   "cell_type": "code",
   "execution_count": 2,
   "id": "fa554b3e",
   "metadata": {},
   "outputs": [
    {
     "name": "stdout",
     "output_type": "stream",
     "text": [
      "https://www.imdb.com/title/tt0108778/episodes/ 200\n"
     ]
    }
   ],
   "source": [
    "# L'url du site à scrapper\n",
    "url = 'https://www.imdb.com/title/tt0108778/episodes/'\n",
    "\n",
    "# ma requete HTTP avec un \"GET\" au serveur du site identifier dans l'url\n",
    "headers = {'User-Agent': 'Mozilla/5.0 (Windows NT 10.0; Win64; x64) AppleWebKit/537.36 (KHTML, like Gecko) Chrome/58.0.3029.110 Safari/537.3'}\n",
    "response = requests.get(url, headers=headers)\n",
    "\n",
    "# J'affiche l'url ainsi que le retour du serveur\n",
    "print(url, response.status_code)"
   ]
  },
  {
   "cell_type": "code",
   "execution_count": 3,
   "id": "2efa6020",
   "metadata": {},
   "outputs": [],
   "source": [
    "# Je demande à beautifulSoup de conserver dans une variable \"soup\" la page web à scrapper (un script html)\n",
    "soup = BeautifulSoup(response.content,'html')"
   ]
  },
  {
   "cell_type": "code",
   "execution_count": 4,
   "id": "34912b10",
   "metadata": {},
   "outputs": [
    {
     "data": {
      "text/plain": [
       "'Friends'"
      ]
     },
     "execution_count": 4,
     "metadata": {},
     "output_type": "execute_result"
    }
   ],
   "source": [
    "soup.select_one('h2').text"
   ]
  },
  {
   "cell_type": "code",
   "execution_count": 5,
   "id": "e69840ad",
   "metadata": {},
   "outputs": [
    {
     "data": {
      "text/plain": [
       "[<div class=\"ipc-title__text\">S1.E1 ∙ The One Where Monica Gets a Roommate</div>,\n",
       " <div class=\"ipc-title__text\">S1.E2 ∙ The One with the Sonogram at the End</div>,\n",
       " <div class=\"ipc-title__text\">S1.E3 ∙ The One with the Thumb</div>,\n",
       " <div class=\"ipc-title__text\">S1.E4 ∙ The One with George Stephanopoulos</div>,\n",
       " <div class=\"ipc-title__text\">S1.E5 ∙ The One with the East German Laundry Detergent</div>,\n",
       " <div class=\"ipc-title__text\">S1.E6 ∙ The One with the Butt</div>,\n",
       " <div class=\"ipc-title__text\">S1.E7 ∙ The One with the Blackout</div>,\n",
       " <div class=\"ipc-title__text\">S1.E8 ∙ The One Where Nana Dies Twice</div>,\n",
       " <div class=\"ipc-title__text\">S1.E9 ∙ The One Where Underdog Gets Away</div>,\n",
       " <div class=\"ipc-title__text\">S1.E10 ∙ The One with the Monkey</div>,\n",
       " <div class=\"ipc-title__text\">S1.E11 ∙ The One with Mrs. Bing</div>,\n",
       " <div class=\"ipc-title__text\">S1.E12 ∙ The One with the Dozen Lasagnas</div>,\n",
       " <div class=\"ipc-title__text\">S1.E13 ∙ The One with the Boobies</div>,\n",
       " <div class=\"ipc-title__text\">S1.E14 ∙ The One with the Candy Hearts</div>,\n",
       " <div class=\"ipc-title__text\">S1.E15 ∙ The One with the Stoned Guy</div>,\n",
       " <div class=\"ipc-title__text\">S1.E16 ∙ The One with Two Parts: Part 1</div>,\n",
       " <div class=\"ipc-title__text\">S1.E17 ∙ The One with Two Parts: Part 2</div>,\n",
       " <div class=\"ipc-title__text\">S1.E18 ∙ The One with All the Poker</div>,\n",
       " <div class=\"ipc-title__text\">S1.E19 ∙ The One Where the Monkey Gets Away</div>,\n",
       " <div class=\"ipc-title__text\">S1.E20 ∙ The One with the Evil Orthodontist</div>,\n",
       " <div class=\"ipc-title__text\">S1.E21 ∙ The One with the Fake Monica</div>,\n",
       " <div class=\"ipc-title__text\">S1.E22 ∙ The One with the Ick Factor</div>,\n",
       " <div class=\"ipc-title__text\">S1.E23 ∙ The One with the Birth</div>,\n",
       " <div class=\"ipc-title__text\">S1.E24 ∙ The One Where Rachel Finds Out</div>]"
      ]
     },
     "execution_count": 5,
     "metadata": {},
     "output_type": "execute_result"
    }
   ],
   "source": [
    "soup.find_all(\"div\", attrs={\"class\":\"ipc-title__text\"})"
   ]
  },
  {
   "cell_type": "code",
   "execution_count": 6,
   "id": "1cbacef4",
   "metadata": {},
   "outputs": [
    {
     "name": "stdout",
     "output_type": "stream",
     "text": [
      "S1.E1 ∙ The One Where Monica Gets a Roommate\n",
      "S1.E2 ∙ The One with the Sonogram at the End\n",
      "S1.E3 ∙ The One with the Thumb\n",
      "S1.E4 ∙ The One with George Stephanopoulos\n",
      "S1.E5 ∙ The One with the East German Laundry Detergent\n",
      "S1.E6 ∙ The One with the Butt\n",
      "S1.E7 ∙ The One with the Blackout\n",
      "S1.E8 ∙ The One Where Nana Dies Twice\n",
      "S1.E9 ∙ The One Where Underdog Gets Away\n",
      "S1.E10 ∙ The One with the Monkey\n",
      "S1.E11 ∙ The One with Mrs. Bing\n",
      "S1.E12 ∙ The One with the Dozen Lasagnas\n",
      "S1.E13 ∙ The One with the Boobies\n",
      "S1.E14 ∙ The One with the Candy Hearts\n",
      "S1.E15 ∙ The One with the Stoned Guy\n",
      "S1.E16 ∙ The One with Two Parts: Part 1\n",
      "S1.E17 ∙ The One with Two Parts: Part 2\n",
      "S1.E18 ∙ The One with All the Poker\n",
      "S1.E19 ∙ The One Where the Monkey Gets Away\n",
      "S1.E20 ∙ The One with the Evil Orthodontist\n",
      "S1.E21 ∙ The One with the Fake Monica\n",
      "S1.E22 ∙ The One with the Ick Factor\n",
      "S1.E23 ∙ The One with the Birth\n",
      "S1.E24 ∙ The One Where Rachel Finds Out\n"
     ]
    }
   ],
   "source": [
    "for elem in soup.find_all(\"div\", attrs={\"class\":\"ipc-title__text\"}):\n",
    "    \n",
    "    print(elem.text)\n",
    "    saison=elem.text.split(\".\")[0]\n",
    "    ep_num=(elem.text.split(\".\")[1]).split(\" ∙ \")[0]\n",
    "    ep_name= (elem.text.split(\".\")[1]).split(\" ∙ \")[1]"
   ]
  },
  {
   "cell_type": "code",
   "execution_count": 7,
   "id": "527c86eb",
   "metadata": {},
   "outputs": [],
   "source": [
    "url= f'https://www.imdb.com/title/tt0108778/episodes/?season=1'\n",
    "res= requests.get(url, headers=headers)\n",
    "soup= BeautifulSoup(res.content, 'html')"
   ]
  },
  {
   "cell_type": "code",
   "execution_count": 10,
   "id": "63ed45fd",
   "metadata": {},
   "outputs": [
    {
     "data": {
      "text/plain": [
       "['S1.E1 ∙ The One Where Monica Gets a Roommate',\n",
       " 'S1.E2 ∙ The One with the Sonogram at the End',\n",
       " 'S1.E3 ∙ The One with the Thumb',\n",
       " 'S1.E4 ∙ The One with George Stephanopoulos',\n",
       " 'S1.E5 ∙ The One with the East German Laundry Detergent',\n",
       " 'S1.E6 ∙ The One with the Butt',\n",
       " 'S1.E7 ∙ The One with the Blackout',\n",
       " 'S1.E8 ∙ The One Where Nana Dies Twice',\n",
       " 'S1.E9 ∙ The One Where Underdog Gets Away',\n",
       " 'S1.E10 ∙ The One with the Monkey',\n",
       " 'S1.E11 ∙ The One with Mrs. Bing',\n",
       " 'S1.E12 ∙ The One with the Dozen Lasagnas',\n",
       " 'S1.E13 ∙ The One with the Boobies',\n",
       " 'S1.E14 ∙ The One with the Candy Hearts',\n",
       " 'S1.E15 ∙ The One with the Stoned Guy',\n",
       " 'S1.E16 ∙ The One with Two Parts: Part 1',\n",
       " 'S1.E17 ∙ The One with Two Parts: Part 2',\n",
       " 'S1.E18 ∙ The One with All the Poker',\n",
       " 'S1.E19 ∙ The One Where the Monkey Gets Away',\n",
       " 'S1.E20 ∙ The One with the Evil Orthodontist',\n",
       " 'S1.E21 ∙ The One with the Fake Monica',\n",
       " 'S1.E22 ∙ The One with the Ick Factor',\n",
       " 'S1.E23 ∙ The One with the Birth',\n",
       " 'S1.E24 ∙ The One Where Rachel Finds Out']"
      ]
     },
     "execution_count": 10,
     "metadata": {},
     "output_type": "execute_result"
    }
   ],
   "source": [
    "def extract_info(soup):\n",
    "    # Trouver tous les éléments contenant les titres des épisodes\n",
    "    titles = soup.select(\"div div h4 div div\")\n",
    "    episode_list = []\n",
    "\n",
    "    # Extraire et ajouter les informations des titres\n",
    "    for title in titles:\n",
    "        episode_list.append(title.text.strip())\n",
    "\n",
    "    return episode_list\n",
    "\n",
    "\n",
    "saisons = []\n",
    "\n",
    "extract_info(soup)"
   ]
  },
  {
   "cell_type": "code",
   "execution_count": 11,
   "id": "51a0e4ca",
   "metadata": {},
   "outputs": [
    {
     "name": "stdout",
     "output_type": "stream",
     "text": [
      "saison 1 24 episodes\n",
      "['S1.E1 ∙ The One Where Monica Gets a Roommate', 'S1.E2 ∙ The One with the Sonogram at the End', 'S1.E3 ∙ The One with the Thumb', 'S1.E4 ∙ The One with George Stephanopoulos', 'S1.E5 ∙ The One with the East German Laundry Detergent', 'S1.E6 ∙ The One with the Butt', 'S1.E7 ∙ The One with the Blackout', 'S1.E8 ∙ The One Where Nana Dies Twice', 'S1.E9 ∙ The One Where Underdog Gets Away', 'S1.E10 ∙ The One with the Monkey', 'S1.E11 ∙ The One with Mrs. Bing', 'S1.E12 ∙ The One with the Dozen Lasagnas', 'S1.E13 ∙ The One with the Boobies', 'S1.E14 ∙ The One with the Candy Hearts', 'S1.E15 ∙ The One with the Stoned Guy', 'S1.E16 ∙ The One with Two Parts: Part 1', 'S1.E17 ∙ The One with Two Parts: Part 2', 'S1.E18 ∙ The One with All the Poker', 'S1.E19 ∙ The One Where the Monkey Gets Away', 'S1.E20 ∙ The One with the Evil Orthodontist', 'S1.E21 ∙ The One with the Fake Monica', 'S1.E22 ∙ The One with the Ick Factor', 'S1.E23 ∙ The One with the Birth', 'S1.E24 ∙ The One Where Rachel Finds Out']\n",
      "saison 2 24 episodes\n",
      "[\"S2.E1 ∙ The One with Ross's New Girlfriend\", 'S2.E2 ∙ The One with the Breast Milk', 'S2.E3 ∙ The One Where Heckles Dies', \"S2.E4 ∙ The One with Phoebe's Husband\", 'S2.E5 ∙ The One with Five Steaks and an Eggplant', 'S2.E6 ∙ The One with the Baby on the Bus', 'S2.E7 ∙ The One Where Ross Finds Out', 'S2.E8 ∙ The One with the List', \"S2.E9 ∙ The One with Phoebe's Dad\", 'S2.E10 ∙ The One with Russ', 'S2.E11 ∙ The One with the Lesbian Wedding', 'S2.E12 ∙ The One After the Superbowl: Part 1', 'S2.E13 ∙ The One After the Superbowl: Part 2', 'S2.E14 ∙ The One with the Prom Video', 'S2.E15 ∙ The One Where Ross and Rachel... You Know', 'S2.E16 ∙ The One Where Joey Moves Out', 'S2.E17 ∙ The One Where Eddie Moves In', 'S2.E18 ∙ The One Where Dr. Ramoray Dies', \"S2.E19 ∙ The One Where Eddie Won't Go\", 'S2.E20 ∙ The One Where Old Yeller Dies', 'S2.E21 ∙ The One with the Bullies', 'S2.E22 ∙ The One with the Two Parties', 'S2.E23 ∙ The One with the Chicken Pox', \"S2.E24 ∙ The One with Barry and Mindy's Wedding\"]\n",
      "saison 3 25 episodes\n",
      "['S3.E1 ∙ The One with the Princess Leia Fantasy', \"S3.E2 ∙ The One Where No One's Ready\", 'S3.E3 ∙ The One with the Jam', 'S3.E4 ∙ The One with the Metaphorical Tunnel', 'S3.E5 ∙ The One with Frank Jr.', 'S3.E6 ∙ The One with the Flashback', 'S3.E7 ∙ The One with the Race Car Bed', 'S3.E8 ∙ The One with the Giant Poking Device', 'S3.E9 ∙ The One with the Football', 'S3.E10 ∙ The One Where Rachel Quits', \"S3.E11 ∙ The One Where Chandler Can't Remember Which Sister\", 'S3.E12 ∙ The One with All the Jealousy', 'S3.E13 ∙ The One Where Monica and Richard Are Just Friends', \"S3.E14 ∙ The One with Phoebe's Ex-Partner\", 'S3.E15 ∙ The One Where Ross and Rachel Take a Break', 'S3.E16 ∙ The One with the Morning After', 'S3.E17 ∙ The One Without the Ski Trip', 'S3.E18 ∙ The One with the Hypnosis Tape', 'S3.E19 ∙ The One with the Tiny T-Shirt', 'S3.E20 ∙ The One with the Dollhouse', 'S3.E21 ∙ The One with the Chick and the Duck', 'S3.E22 ∙ The One with the Screamer', \"S3.E23 ∙ The One with Ross's Thing\", 'S3.E24 ∙ The One with the Ultimate Fighting Champion', 'S3.E25 ∙ The One at the Beach']\n",
      "saison 4 24 episodes\n",
      "['S4.E1 ∙ The One with the Jellyfish', 'S4.E2 ∙ The One with the Cat', \"S4.E3 ∙ The One with the 'Cuffs\", 'S4.E4 ∙ The One with the Ballroom Dancing', \"S4.E5 ∙ The One with Joey's New Girlfriend\", 'S4.E6 ∙ The One with the Dirty Girl', 'S4.E7 ∙ The One Where Chandler Crosses the Line', 'S4.E8 ∙ The One with Chandler in a Box', \"S4.E9 ∙ The One Where They're Going to Party!\", 'S4.E10 ∙ The One with the Girl from Poughkeepsie', \"S4.E11 ∙ The One with Phoebe's Uterus\", 'S4.E12 ∙ The One with the Embryos', \"S4.E13 ∙ The One with Rachel's Crush\", \"S4.E14 ∙ The One with Joey's Dirty Day\", 'S4.E15 ∙ The One with All the Rugby', 'S4.E16 ∙ The One with the Fake Party', 'S4.E17 ∙ The One with the Free Porn', \"S4.E18 ∙ The One with Rachel's New Dress\", 'S4.E19 ∙ The One with All the Haste', 'S4.E20 ∙ The One with All the Wedding Dresses', 'S4.E21 ∙ The One with the Invitation', 'S4.E22 ∙ The One with the Worst Best Man Ever', \"S4.E23 ∙ The One with Ross's Wedding: Part 1\", \"S4.E24 ∙ The One with Ross's Wedding: Part 2\"]\n",
      "saison 5 24 episodes\n",
      "['S5.E1 ∙ The One After Ross Says Rachel', 'S5.E2 ∙ The One with All the Kissing', 'S5.E3 ∙ The One Hundredth', 'S5.E4 ∙ The One Where Phoebe Hates PBS', 'S5.E5 ∙ The One with the Kips', 'S5.E6 ∙ The One with the Yeti', 'S5.E7 ∙ The One Where Ross Moves In', 'S5.E8 ∙ The One with All the Thanksgivings', \"S5.E9 ∙ The One with Ross's Sandwich\", 'S5.E10 ∙ The One with the Inappropriate Sister', 'S5.E11 ∙ The One with All the Resolutions', \"S5.E12 ∙ The One with Chandler's Work Laugh\", \"S5.E13 ∙ The One with Joey's Bag\", 'S5.E14 ∙ The One Where Everybody Finds Out', 'S5.E15 ∙ The One with the Girl Who Hits Joey', 'S5.E16 ∙ The One with the Cop', \"S5.E17 ∙ The One with Rachel's Inadvertent Kiss\", 'S5.E18 ∙ The One Where Rachel Smokes', \"S5.E19 ∙ The One Where Ross Can't Flirt\", 'S5.E20 ∙ The One with the Ride Along', 'S5.E21 ∙ The One with the Ball', \"S5.E22 ∙ The One with Joey's Big Break\", 'S5.E23 ∙ The One in Vegas: Part 1', 'S5.E24 ∙ The One in Vegas: Part 2']\n",
      "saison 6 25 episodes\n",
      "['S6.E1 ∙ The One After Vegas', 'S6.E2 ∙ The One Where Ross Hugs Rachel', \"S6.E3 ∙ The One with Ross's Denial\", 'S6.E4 ∙ The One Where Joey Loses His Insurance', \"S6.E5 ∙ The One with Joey's Porsche\", 'S6.E6 ∙ The One on the Last Night', 'S6.E7 ∙ The One Where Phoebe Runs', \"S6.E8 ∙ The One with Ross' Teeth\", 'S6.E9 ∙ The One Where Ross Got High', 'S6.E10 ∙ The One with the Routine', 'S6.E11 ∙ The One with the Apothecary Table', 'S6.E12 ∙ The One with the Joke', \"S6.E13 ∙ The One with Rachel's Sister\", \"S6.E14 ∙ The One Where Chandler Can't Cry\", 'S6.E15 ∙ The One That Could Have Been: Part 1', 'S6.E16 ∙ The One That Could Have Been: Part 2', 'S6.E17 ∙ The One with Unagi', 'S6.E18 ∙ The One Where Ross Dates a Student', \"S6.E19 ∙ The One with Joey's Fridge\", 'S6.E20 ∙ The One with Mac and C.H.E.E.S.E.', \"S6.E21 ∙ The One Where Ross Meets Elizabeth's Dad\", \"S6.E22 ∙ The One Where Paul's the Man\", 'S6.E23 ∙ The One with the Ring', 'S6.E24 ∙ The One with the Proposal: Part 1', 'S6.E25 ∙ The One with the Proposal: Part 2']\n",
      "saison 7 24 episodes\n",
      "[\"S7.E1 ∙ The One with Monica's Thunder\", \"S7.E2 ∙ The One with Rachel's Book\", \"S7.E3 ∙ The One with Phoebe's Cookies\", \"S7.E4 ∙ The One with Rachel's Assistant\", 'S7.E5 ∙ The One with the Engagement Picture', 'S7.E6 ∙ The One with the Nap Partners', \"S7.E7 ∙ The One with Ross's Library Book\", \"S7.E8 ∙ The One Where Chandler Doesn't Like Dogs\", 'S7.E9 ∙ The One with All the Candy', 'S7.E10 ∙ The One with the Holiday Armadillo', 'S7.E11 ∙ The One with All the Cheesecakes', \"S7.E12 ∙ The One Where They're Up All Night\", 'S7.E13 ∙ The One Where Rosita Dies', 'S7.E14 ∙ The One Where They All Turn Thirty', \"S7.E15 ∙ The One with Joey's New Brain\", 'S7.E16 ∙ The One with the Truth About London', 'S7.E17 ∙ The One with the Cheap Wedding Dress', \"S7.E18 ∙ The One with Joey's Award\", \"S7.E19 ∙ The One with Ross and Monica's Cousin\", \"S7.E20 ∙ The One with Rachel's Big Kiss\", 'S7.E21 ∙ The One with the Vows', \"S7.E22 ∙ The One with Chandler's Dad\", \"S7.E23 ∙ The One with Monica and Chandler's Wedding: Part 1\", \"S7.E24 ∙ The One with Monica and Chandler's Wedding: Part 2\"]\n",
      "saison 8 24 episodes\n",
      "['S8.E1 ∙ The One After I Do', 'S8.E2 ∙ The One with the Red Sweater', 'S8.E3 ∙ The One Where Rachel Tells...', 'S8.E4 ∙ The One with the Videotape', \"S8.E5 ∙ The One with Rachel's Date\", 'S8.E6 ∙ The One with the Halloween Party', 'S8.E7 ∙ The One with the Stain', 'S8.E8 ∙ The One with the Stripper', 'S8.E9 ∙ The One with the Rumor', \"S8.E10 ∙ The One with Monica's Boots\", \"S8.E11 ∙ The One with Ross's Step Forward\", 'S8.E12 ∙ The One Where Joey Dates Rachel', 'S8.E13 ∙ The One Where Chandler Takes a Bath', 'S8.E14 ∙ The One with the Secret Closet', 'S8.E15 ∙ The One with the Birthing Video', 'S8.E16 ∙ The One Where Joey Tells Rachel', 'S8.E17 ∙ The One with the Tea Leaves', 'S8.E18 ∙ The One in Massapequa', \"S8.E19 ∙ The One with Joey's Interview\", 'S8.E20 ∙ The One with the Baby Shower', 'S8.E21 ∙ The One with the Cooking Class', 'S8.E22 ∙ The One Where Rachel Is Late', 'S8.E23 ∙ The One Where Rachel Has a Baby: Part 1', 'S8.E24 ∙ The One Where Rachel Has a Baby: Part 2']\n"
     ]
    },
    {
     "name": "stdout",
     "output_type": "stream",
     "text": [
      "saison 9 23 episodes\n",
      "['S9.E1 ∙ The One Where No One Proposes', 'S9.E2 ∙ The One Where Emma Cries', 'S9.E3 ∙ The One with the Pediatrician', 'S9.E4 ∙ The One with the Sharks', \"S9.E5 ∙ The One with Phoebe's Birthday Dinner\", 'S9.E6 ∙ The One with the Male Nanny', \"S9.E7 ∙ The One with Ross's Inappropriate Song\", \"S9.E8 ∙ The One with Rachel's Other Sister\", \"S9.E9 ∙ The One with Rachel's Phone Number\", 'S9.E10 ∙ The One with Christmas in Tulsa', 'S9.E11 ∙ The One Where Rachel Goes Back to Work', \"S9.E12 ∙ The One with Phoebe's Rats\", 'S9.E13 ∙ The One Where Monica Sings', 'S9.E14 ∙ The One with the Blind Dates', 'S9.E15 ∙ The One with the Mugging', 'S9.E16 ∙ The One with the Boob Job', 'S9.E17 ∙ The One with the Memorial Service', 'S9.E18 ∙ The One with the Lottery', \"S9.E19 ∙ The One with Rachel's Dream\", 'S9.E20 ∙ The One with the Soap Opera Party', 'S9.E21 ∙ The One with the Fertility Test', 'S9.E22 ∙ The One with the Donor', 'S9.E23 ∙ The One in Barbados']\n",
      "saison 10 17 episodes\n",
      "['S10.E1 ∙ The One After Joey and Rachel Kiss', 'S10.E2 ∙ The One Where Ross Is Fine', \"S10.E3 ∙ The One with Ross's Tan\", 'S10.E4 ∙ The One with the Cake', \"S10.E5 ∙ The One Where Rachel's Sister Babysits\", \"S10.E6 ∙ The One with Ross' Grant\", 'S10.E7 ∙ The One with the Home Study', 'S10.E8 ∙ The One with the Late Thanksgiving', 'S10.E9 ∙ The One with the Birth Mother', 'S10.E10 ∙ The One Where Chandler Gets Caught', 'S10.E11 ∙ The One Where the Stripper Cries', \"S10.E12 ∙ The One with Phoebe's Wedding\", 'S10.E13 ∙ The One Where Joey Speaks French', 'S10.E14 ∙ The One with Princess Consuela', 'S10.E15 ∙ The One Where Estelle Dies', \"S10.E16 ∙ The One with Rachel's Going Away Party\", 'S10.E17 ∙ The Last One']\n",
      "saison 11 0 episodes\n",
      "[]\n",
      "===>  11 saisons\n"
     ]
    }
   ],
   "source": [
    "saisons=[]\n",
    "\n",
    "for id_saison in range(1, 12):\n",
    "    url= f'https://www.imdb.com/title/tt0108778/episodes/?season={id_saison}'\n",
    "    res= requests.get(url, headers=headers)\n",
    "    \n",
    "    soup1= BeautifulSoup(res.content, 'html')\n",
    "    ss=[]\n",
    "    ep=extract_info(soup1)\n",
    "    #print(len(ss))\n",
    "    \n",
    "    \n",
    "    print(\"saison\",id_saison,len(ep),\"episodes\")\n",
    "    print(ep)\n",
    "    \n",
    "    saisons.append(ss)\n",
    "print(\"===> \",len(saisons),\"saisons\")"
   ]
  },
  {
   "cell_type": "code",
   "execution_count": null,
   "id": "5e80129a",
   "metadata": {},
   "outputs": [],
   "source": []
  }
 ],
 "metadata": {
  "kernelspec": {
   "display_name": "Python 3 (ipykernel)",
   "language": "python",
   "name": "python3"
  },
  "language_info": {
   "codemirror_mode": {
    "name": "ipython",
    "version": 3
   },
   "file_extension": ".py",
   "mimetype": "text/x-python",
   "name": "python",
   "nbconvert_exporter": "python",
   "pygments_lexer": "ipython3",
   "version": "3.11.7"
  }
 },
 "nbformat": 4,
 "nbformat_minor": 5
}
