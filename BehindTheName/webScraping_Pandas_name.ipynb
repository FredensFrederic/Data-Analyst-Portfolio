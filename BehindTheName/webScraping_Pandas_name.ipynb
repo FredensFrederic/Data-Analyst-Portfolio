{
 "cells": [
  {
   "cell_type": "markdown",
   "metadata": {},
   "source": [
    "Scraping , Collecte et préparation des données du site https://www.behindthename.com/names/list"
   ]
  },
  {
   "cell_type": "code",
   "execution_count": 1,
   "metadata": {},
   "outputs": [],
   "source": [
    "import requests\n",
    "from bs4 import BeautifulSoup\n",
    "\n",
    "import pandas as pd\n",
    "import matplotlib.pyplot as plt"
   ]
  },
  {
   "cell_type": "code",
   "execution_count": 2,
   "metadata": {},
   "outputs": [],
   "source": [
    "def getGender(name):\n",
    "    curr_url = \"https://www.behindthename.com\"+name\n",
    "    response = requests.get(curr_url)\n",
    "    if response.status_code == 200:\n",
    "        soup = BeautifulSoup(response.text, 'html.parser')\n",
    "        gender = soup.find(\"span\", class_=\"infoname-info\").find(\"span\").text\n",
    "    return gender\n",
    "\n"
   ]
  },
  {
   "cell_type": "code",
   "execution_count": 3,
   "metadata": {},
   "outputs": [
    {
     "name": "stdout",
     "output_type": "stream",
     "text": [
      "Masculine\n"
     ]
    }
   ],
   "source": [
    "print(getGender(\"/name/Aaron\")) "
   ]
  },
  {
   "cell_type": "code",
   "execution_count": 4,
   "metadata": {},
   "outputs": [
    {
     "data": {
      "text/html": [
       "<div>\n",
       "<style scoped>\n",
       "    .dataframe tbody tr th:only-of-type {\n",
       "        vertical-align: middle;\n",
       "    }\n",
       "\n",
       "    .dataframe tbody tr th {\n",
       "        vertical-align: top;\n",
       "    }\n",
       "\n",
       "    .dataframe thead th {\n",
       "        text-align: right;\n",
       "    }\n",
       "</style>\n",
       "<table border=\"1\" class=\"dataframe\">\n",
       "  <thead>\n",
       "    <tr style=\"text-align: right;\">\n",
       "      <th></th>\n",
       "      <th>Prenom</th>\n",
       "      <th>Genre</th>\n",
       "      <th>Usage</th>\n",
       "    </tr>\n",
       "  </thead>\n",
       "  <tbody>\n",
       "    <tr>\n",
       "      <th>0</th>\n",
       "      <td>Aaron</td>\n",
       "      <td>m</td>\n",
       "      <td>8</td>\n",
       "    </tr>\n",
       "    <tr>\n",
       "      <th>1</th>\n",
       "      <td>Abel</td>\n",
       "      <td>m</td>\n",
       "      <td>10</td>\n",
       "    </tr>\n",
       "    <tr>\n",
       "      <th>2</th>\n",
       "      <td>Abigaëlle</td>\n",
       "      <td>f</td>\n",
       "      <td>1</td>\n",
       "    </tr>\n",
       "    <tr>\n",
       "      <th>3</th>\n",
       "      <td>Abraham</td>\n",
       "      <td>m</td>\n",
       "      <td>11</td>\n",
       "    </tr>\n",
       "    <tr>\n",
       "      <th>4</th>\n",
       "      <td>Achille</td>\n",
       "      <td>m</td>\n",
       "      <td>2</td>\n",
       "    </tr>\n",
       "    <tr>\n",
       "      <th>...</th>\n",
       "      <td>...</td>\n",
       "      <td>...</td>\n",
       "      <td>...</td>\n",
       "    </tr>\n",
       "    <tr>\n",
       "      <th>295</th>\n",
       "      <td>Émeline</td>\n",
       "      <td>f</td>\n",
       "      <td>1</td>\n",
       "    </tr>\n",
       "    <tr>\n",
       "      <th>296</th>\n",
       "      <td>Émeric</td>\n",
       "      <td>m</td>\n",
       "      <td>1</td>\n",
       "    </tr>\n",
       "    <tr>\n",
       "      <th>297</th>\n",
       "      <td>Émile</td>\n",
       "      <td>m</td>\n",
       "      <td>1</td>\n",
       "    </tr>\n",
       "    <tr>\n",
       "      <th>298</th>\n",
       "      <td>Émilie</td>\n",
       "      <td>f</td>\n",
       "      <td>1</td>\n",
       "    </tr>\n",
       "    <tr>\n",
       "      <th>299</th>\n",
       "      <td>Émilien</td>\n",
       "      <td>m</td>\n",
       "      <td>1</td>\n",
       "    </tr>\n",
       "  </tbody>\n",
       "</table>\n",
       "<p>300 rows × 3 columns</p>\n",
       "</div>"
      ],
      "text/plain": [
       "        Prenom Genre  Usage\n",
       "0        Aaron     m      8\n",
       "1         Abel     m     10\n",
       "2    Abigaëlle     f      1\n",
       "3      Abraham     m     11\n",
       "4      Achille     m      2\n",
       "..         ...   ...    ...\n",
       "295    Émeline     f      1\n",
       "296     Émeric     m      1\n",
       "297      Émile     m      1\n",
       "298     Émilie     f      1\n",
       "299    Émilien     m      1\n",
       "\n",
       "[300 rows x 3 columns]"
      ]
     },
     "execution_count": 4,
     "metadata": {},
     "output_type": "execute_result"
    }
   ],
   "source": [
    "url = \"https://www.behindthename.com/names/usage/french\"\n",
    "\n",
    "#prénom, genre et nombre d'usage\n",
    "def getNameInfos(url, usg_OK):\n",
    "    infos = []\n",
    "    response = requests.get(url)\n",
    "    if response.status_code == 200:\n",
    "        soup = BeautifulSoup(response.content, 'html.parser')\n",
    "        for i in soup.find_all(\"div\", class_=\"browsename\"):\n",
    "            prenom = i.find(\"span\", class_=\"listname\").find(\"a\").text\n",
    "            \n",
    "            '''curr_href = i.find(\"a\", href=True)['href']\n",
    "            genre = getGender(curr_href) #compilation trop longues, c'était pour tester en ayant plus de précision sur le genre'''\n",
    "            \n",
    "            tmp = i.find(\"span\", class_=\"listgender\").find_all(\"span\")\n",
    "            genre = tmp[0].text if len(tmp) <= 1 else ','.join(list(map(lambda x: x.text, tmp)))\n",
    "            \n",
    "            usg = len(i.find(\"span\", class_=\"listusage\").find_all(\"a\", class_=\"usg\"))\n",
    "            infos.append({'Prenom': prenom, 'Genre': genre, 'Usage': usg}) if usg_OK else infos.append({'Prenom': prenom, 'Genre': genre})\n",
    "        df_infos = pd.DataFrame(infos)\n",
    "    return df_infos\n",
    "\n",
    "df_french_names = getNameInfos(url, True)\n",
    "df_french_names"
   ]
  },
  {
   "cell_type": "code",
   "execution_count": 5,
   "metadata": {},
   "outputs": [
    {
     "name": "stdout",
     "output_type": "stream",
     "text": [
      "<class 'pandas.core.frame.DataFrame'>\n",
      "RangeIndex: 300 entries, 0 to 299\n",
      "Data columns (total 3 columns):\n",
      " #   Column  Non-Null Count  Dtype \n",
      "---  ------  --------------  ----- \n",
      " 0   Prenom  300 non-null    object\n",
      " 1   Genre   300 non-null    object\n",
      " 2   Usage   300 non-null    int64 \n",
      "dtypes: int64(1), object(2)\n",
      "memory usage: 7.2+ KB\n"
     ]
    }
   ],
   "source": [
    "df_french_names.info()"
   ]
  },
  {
   "cell_type": "code",
   "execution_count": 6,
   "metadata": {},
   "outputs": [
    {
     "data": {
      "text/html": [
       "<div>\n",
       "<style scoped>\n",
       "    .dataframe tbody tr th:only-of-type {\n",
       "        vertical-align: middle;\n",
       "    }\n",
       "\n",
       "    .dataframe tbody tr th {\n",
       "        vertical-align: top;\n",
       "    }\n",
       "\n",
       "    .dataframe thead th {\n",
       "        text-align: right;\n",
       "    }\n",
       "</style>\n",
       "<table border=\"1\" class=\"dataframe\">\n",
       "  <thead>\n",
       "    <tr style=\"text-align: right;\">\n",
       "      <th></th>\n",
       "      <th>Usage</th>\n",
       "    </tr>\n",
       "  </thead>\n",
       "  <tbody>\n",
       "    <tr>\n",
       "      <th>count</th>\n",
       "      <td>300.000000</td>\n",
       "    </tr>\n",
       "    <tr>\n",
       "      <th>mean</th>\n",
       "      <td>2.496667</td>\n",
       "    </tr>\n",
       "    <tr>\n",
       "      <th>std</th>\n",
       "      <td>3.429655</td>\n",
       "    </tr>\n",
       "    <tr>\n",
       "      <th>min</th>\n",
       "      <td>1.000000</td>\n",
       "    </tr>\n",
       "    <tr>\n",
       "      <th>25%</th>\n",
       "      <td>1.000000</td>\n",
       "    </tr>\n",
       "    <tr>\n",
       "      <th>50%</th>\n",
       "      <td>1.000000</td>\n",
       "    </tr>\n",
       "    <tr>\n",
       "      <th>75%</th>\n",
       "      <td>2.000000</td>\n",
       "    </tr>\n",
       "    <tr>\n",
       "      <th>max</th>\n",
       "      <td>25.000000</td>\n",
       "    </tr>\n",
       "  </tbody>\n",
       "</table>\n",
       "</div>"
      ],
      "text/plain": [
       "            Usage\n",
       "count  300.000000\n",
       "mean     2.496667\n",
       "std      3.429655\n",
       "min      1.000000\n",
       "25%      1.000000\n",
       "50%      1.000000\n",
       "75%      2.000000\n",
       "max     25.000000"
      ]
     },
     "execution_count": 6,
     "metadata": {},
     "output_type": "execute_result"
    }
   ],
   "source": [
    "df_french_names.describe()"
   ]
  },
  {
   "cell_type": "code",
   "execution_count": 7,
   "metadata": {},
   "outputs": [
    {
     "name": "stdout",
     "output_type": "stream",
     "text": [
      "    Prenom Genre  Usage\n",
      "37  Alexis   m,f      5\n"
     ]
    }
   ],
   "source": [
    "print(df_french_names[df_french_names[\"Prenom\"] == \"Alexis\"])"
   ]
  },
  {
   "cell_type": "code",
   "execution_count": 8,
   "metadata": {},
   "outputs": [
    {
     "data": {
      "image/png": "[encoded data removed]",
      "text/plain": [
       "<Figure size 640x480 with 1 Axes>"
      ]
     },
     "metadata": {},
     "output_type": "display_data"
    }
   ],
   "source": [
    "plt.title(\"Etude sur le genre des noms en France\")\n",
    "plt.hist(df_french_names[\"Genre\"])\n",
    "plt.show()"
   ]
  },
  {
   "cell_type": "markdown",
   "metadata": {},
   "source": [
    "On observe qu'il y a plus de nom féminin en France que masculin."
   ]
  },
  {
   "cell_type": "code",
   "execution_count": 9,
   "metadata": {},
   "outputs": [
    {
     "name": "stdout",
     "output_type": "stream",
     "text": [
      "4\n"
     ]
    }
   ],
   "source": [
    "def countNbPages(url):\n",
    "    response = requests.get(url)\n",
    "    nbPages = []\n",
    "    if response.status_code == 200:\n",
    "        soup = BeautifulSoup(response.content, 'html.parser')\n",
    "        for i in soup.find(\"nav\", class_=\"pagination\").find_all(\"a\"):\n",
    "            if i.has_attr(\"class\"):\n",
    "                nbPages.append(i)\n",
    "    return len(nbPages)+1\n",
    "\n",
    "print(countNbPages(url)) #test"
   ]
  },
  {
   "cell_type": "code",
   "execution_count": 10,
   "metadata": {},
   "outputs": [
    {
     "name": "stdout",
     "output_type": "stream",
     "text": [
      "         Categorie                                                URL\n",
      "0           strong       https://www.behindthename.com/meaning/strong\n",
      "1            brave        https://www.behindthename.com/meaning/brave\n",
      "2      intelligent  https://www.behindthename.com/meaning/intelligent\n",
      "3            happy        https://www.behindthename.com/meaning/happy\n",
      "4        beautiful    https://www.behindthename.com/meaning/beautiful\n",
      "5        fortunate    https://www.behindthename.com/meaning/fortunate\n",
      "6         generous     https://www.behindthename.com/meaning/generous\n",
      "7            quick        https://www.behindthename.com/meaning/quick\n",
      "8         graceful     https://www.behindthename.com/meaning/graceful\n",
      "9             love       https://www.behindthename.com/meaning/love-1\n",
      "10             war  https://www.behindthename.com/meaning/military...\n",
      "11         weather      https://www.behindthename.com/meaning/weather\n",
      "12   king or queen      https://www.behindthename.com/meaning/monarch\n",
      "13  god or goddess        https://www.behindthename.com/meaning/deity\n",
      "14            fire         https://www.behindthename.com/meaning/fire\n",
      "15             ice          https://www.behindthename.com/meaning/ice\n",
      "16           water        https://www.behindthename.com/meaning/water\n",
      "17           earth         https://www.behindthename.com/meaning/soil\n",
      "18             air          https://www.behindthename.com/meaning/air\n",
      "19             sun          https://www.behindthename.com/meaning/sun\n",
      "20            moon         https://www.behindthename.com/meaning/moon\n",
      "21            star         https://www.behindthename.com/meaning/star\n",
      "22          flower       https://www.behindthename.com/meaning/flower\n",
      "23            tree         https://www.behindthename.com/meaning/tree\n",
      "24          canine       https://www.behindthename.com/meaning/canine\n",
      "25          feline       https://www.behindthename.com/meaning/feline\n",
      "26           horse       https://www.behindthename.com/meaning/equine\n",
      "27            bird         https://www.behindthename.com/meaning/bird\n",
      "28      sea animal   https://www.behindthename.com/meaning/sea-animal\n",
      "29   magical being  https://www.behindthename.com/meaning/supernat...\n",
      "30           large        https://www.behindthename.com/meaning/large\n",
      "31          little       https://www.behindthename.com/meaning/little\n",
      "32        gemstone     https://www.behindthename.com/meaning/gemstone\n",
      "33           metal        https://www.behindthename.com/meaning/metal\n",
      "34           stone        https://www.behindthename.com/meaning/stone\n",
      "35            food         https://www.behindthename.com/meaning/food\n",
      "36           white        https://www.behindthename.com/meaning/white\n",
      "37           black        https://www.behindthename.com/meaning/black\n",
      "38             red          https://www.behindthename.com/meaning/red\n",
      "39          orange     https://www.behindthename.com/meaning/orange-1\n",
      "40          yellow       https://www.behindthename.com/meaning/yellow\n",
      "41           green        https://www.behindthename.com/meaning/green\n",
      "42            cyan         https://www.behindthename.com/meaning/cyan\n",
      "43            blue         https://www.behindthename.com/meaning/blue\n",
      "44          purple       https://www.behindthename.com/meaning/purple\n",
      "45            pink         https://www.behindthename.com/meaning/pink\n",
      "46            grey         https://www.behindthename.com/meaning/grey\n",
      "47           brown        https://www.behindthename.com/meaning/brown\n"
     ]
    }
   ],
   "source": [
    "def getCategories(url):\n",
    "    categories = []\n",
    "    response = requests.get(url)\n",
    "    if response.status_code == 200:\n",
    "        soup = BeautifulSoup(response.content, 'html.parser')\n",
    "        for i in soup.find(\"ul\", class_=\"columnedlist meaningindexlist indexspacer\").find_all(\"li\"):\n",
    "            category = i.find(\"a\", href=True).text\n",
    "            link = i.find(\"a\", href=True)['href']\n",
    "            categories.append({'Categorie': category, 'URL': url.replace(\"/meanings/\", \"\")+link})\n",
    "        df_categories = pd.DataFrame(categories)\n",
    "    return df_categories\n",
    "\n",
    "url = \"https://www.behindthename.com/meanings/\"\n",
    "df_categories = getCategories(url)\n",
    "print(df_categories)"
   ]
  },
  {
   "cell_type": "code",
   "execution_count": 11,
   "metadata": {},
   "outputs": [
    {
     "name": "stdout",
     "output_type": "stream",
     "text": [
      "*********************** https://www.behindthename.com/meaning/grey ***********************\n",
      "    Prenom Genre\n",
      "0  Argyros     m\n",
      "1      Eun   m,f\n",
      "2    Fidda     f\n",
      "3    Floyd     m\n",
      "4     Gray   m,f \n",
      "Dimension : (289, 2) \n",
      "\n",
      "*********************** https://www.behindthename.com/meaning/green ***********************\n",
      "   Prenom Genre\n",
      "0     Aoi   f,m\n",
      "1  Blerta     f\n",
      "2  Midori     f\n",
      "3  Ntsuab     f\n",
      "4    Qing   f,m \n",
      "Dimension : (294, 2) \n",
      "\n",
      "*********************** https://www.behindthename.com/meaning/graceful ***********************\n",
      "     Prenom Genre\n",
      "0      Juan     f\n",
      "1       Lan   f,m\n",
      "2  Lilavati     f\n",
      "3   Malkhaz     m\n",
      "4        Na     f \n",
      "Dimension : (718, 2) \n",
      "\n"
     ]
    }
   ],
   "source": [
    "def getInfosFromCat(url):\n",
    "    infos = []\n",
    "    response = requests.get(url)\n",
    "    if response.status_code == 200:\n",
    "        soup = BeautifulSoup(response.content, 'html.parser')\n",
    "        for i in soup.find_all(\"div\", class_=\"mng-results\"):\n",
    "            splitStr = i.text.split(\"\\n\")\n",
    "            for j in splitStr:\n",
    "                subSplit = j.split(\"\\xa0\")\n",
    "                if(len(subSplit) == 3):\n",
    "                    prenom = subSplit[0]\n",
    "                    genre = subSplit[1].strip(\"()\")\n",
    "                elif(len(subSplit) == 4):\n",
    "                    prenom = subSplit[0]\n",
    "                    genre = subSplit[2].strip(\"()\")\n",
    "                infos.append({'Prenom': prenom, 'Genre': genre})\n",
    "    df_infos = pd.DataFrame(infos)\n",
    "    return df_infos\n",
    "\n",
    "for i in df_categories.sample(n=3)[\"URL\"]:\n",
    "    currDf = getInfosFromCat(i)\n",
    "    print(\"***********************\",i,\"***********************\")\n",
    "    print(currDf.head(), \"\\nDimension :\",currDf.shape, \"\\n\")\n",
    "        "
   ]
  },
  {
   "cell_type": "code",
   "execution_count": null,
   "metadata": {},
   "outputs": [],
   "source": []
  }
 ],
 "metadata": {
  "kernelspec": {
   "display_name": "Python 3 (ipykernel)",
   "language": "python",
   "name": "python3"
  },
  "language_info": {
   "codemirror_mode": {
    "name": "ipython",
    "version": 3
   },
   "file_extension": ".py",
   "mimetype": "text/x-python",
   "name": "python",
   "nbconvert_exporter": "python",
   "pygments_lexer": "ipython3",
   "version": "3.11.7"
  },
  "toc": {
   "base_numbering": 1,
   "nav_menu": {},
   "number_sections": true,
   "sideBar": true,
   "skip_h1_title": true,
   "title_cell": "Table of Contents",
   "title_sidebar": "Contents",
   "toc_cell": false,
   "toc_position": {},
   "toc_section_display": true,
   "toc_window_display": false
  }
 },
 "nbformat": 4,
 "nbformat_minor": 2
}
